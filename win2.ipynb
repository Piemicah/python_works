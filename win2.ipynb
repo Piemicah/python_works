{
 "metadata": {
  "language_info": {
   "codemirror_mode": {
    "name": "ipython",
    "version": 3
   },
   "file_extension": ".py",
   "mimetype": "text/x-python",
   "name": "python",
   "nbconvert_exporter": "python",
   "pygments_lexer": "ipython3",
   "version": "3.8.3-final"
  },
  "orig_nbformat": 2,
  "kernelspec": {
   "name": "python3",
   "display_name": "Python 3"
  }
 },
 "nbformat": 4,
 "nbformat_minor": 2,
 "cells": [
  {
   "cell_type": "code",
   "execution_count": 15,
   "metadata": {},
   "outputs": [],
   "source": [
    "import tkinter as tk\n",
    "\n",
    "class MyWin:\n",
    "    \n",
    "    def __init__(self):\n",
    "        self.win = tk.Tk()\n",
    "        self.win.title('My Window')\n",
    "        self.label = tk.Label(self.win, text = 'This is me')\n",
    "        self.label2 = tk.Label(self.win, text = 'Baba Titi of Switzaland')\n",
    "        self.label.pack()\n",
    "        self.label2.pack()\n",
    "        self.win.mainloop()\n",
    "        \n",
    "\n",
    "\n",
    "mg = MyWin()"
   ]
  },
  {
   "cell_type": "code",
   "execution_count": null,
   "metadata": {},
   "outputs": [],
   "source": []
  }
 ]
}