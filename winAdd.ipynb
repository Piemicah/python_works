{
 "metadata": {
  "language_info": {
   "codemirror_mode": {
    "name": "ipython",
    "version": 3
   },
   "file_extension": ".py",
   "mimetype": "text/x-python",
   "name": "python",
   "nbconvert_exporter": "python",
   "pygments_lexer": "ipython3",
   "version": "3.8.3-final"
  },
  "orig_nbformat": 2,
  "kernelspec": {
   "name": "python3",
   "display_name": "Python 3"
  }
 },
 "nbformat": 4,
 "nbformat_minor": 2,
 "cells": [
  {
   "cell_type": "code",
   "execution_count": 20,
   "metadata": {},
   "outputs": [],
   "source": [
    "import tkinter as tk\n",
    "import tkinter.messagebox as msg\n",
    "\n",
    "class MyWin:\n",
    "    \n",
    "    def __init__(self):\n",
    "        self.win = tk.Tk()\n",
    "        self.win.title('My Window')\n",
    "\n",
    "        self.frame1 = tk.Frame(self.win)\n",
    "        \n",
    "        self.label1 = tk.Label(self.frame1, text='First Number')\n",
    "        self.num1Entry = tk.Entry(self.frame1, width = 8)\n",
    "        self.num2Entry = tk.Entry(self.frame1, width = 8)\n",
    "        self.label2 = tk.Label(self.frame1, text='Second Number')\n",
    "        self.label1.pack(side='left')\n",
    "        self.num1Entry.pack(side='left')\n",
    "        self.num2Entry.pack(side='right')\n",
    "        self.label2.pack(side='right')\n",
    "\n",
    "        self.frame2 = tk.Frame(self.win)\n",
    "        self.addBtn = tk.Button(self.frame2, text = 'Add', command = self.sum)\n",
    "        self.addBtn.pack()\n",
    "\n",
    "        self.frame1.pack(side='top')\n",
    "        self.frame2.pack(side='bottom')\n",
    "\n",
    "        \n",
    "        self.win.mainloop()\n",
    "\n",
    "    def sum(self):\n",
    "        num1 = float(self.num1Entry.get())\n",
    "        num2 = float(self.num2Entry.get())\n",
    "        ans = num1+num2\n",
    "        msg.showinfo('Addition', 'Sum = ' + str(ans) )\n",
    "\n",
    "\n",
    "mg = MyWin()"
   ]
  },
  {
   "cell_type": "code",
   "execution_count": null,
   "metadata": {},
   "outputs": [],
   "source": []
  }
 ]
}