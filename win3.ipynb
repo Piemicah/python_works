{
 "metadata": {
  "language_info": {
   "codemirror_mode": {
    "name": "ipython",
    "version": 3
   },
   "file_extension": ".py",
   "mimetype": "text/x-python",
   "name": "python",
   "nbconvert_exporter": "python",
   "pygments_lexer": "ipython3",
   "version": "3.8.3-final"
  },
  "orig_nbformat": 2,
  "kernelspec": {
   "name": "python3",
   "display_name": "Python 3"
  }
 },
 "nbformat": 4,
 "nbformat_minor": 2,
 "cells": [
  {
   "cell_type": "code",
   "execution_count": 3,
   "metadata": {},
   "outputs": [],
   "source": [
    "import tkinter as tk\n",
    "import tkinter.messagebox as msg\n",
    "\n",
    "class MyGui:\n",
    "\n",
    "    def __init__(self):\n",
    "        self.win = tk.Tk()\n",
    "        self.button = tk.Button(self.win,\n",
    "                                text = 'Click on me',\n",
    "                                command = self.perform\n",
    "                                ).pack()\n",
    "        self.win.mainloop()\n",
    "        \n",
    "    def perform(self):\n",
    "        msg.showinfo('Info', 'This is Piemicah')\n",
    "\n",
    "\n",
    "w = MyGui()"
   ]
  },
  {
   "cell_type": "code",
   "execution_count": null,
   "metadata": {},
   "outputs": [],
   "source": []
  }
 ]
}